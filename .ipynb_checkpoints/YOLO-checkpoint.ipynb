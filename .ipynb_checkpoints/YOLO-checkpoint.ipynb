{
 "cells": [
  {
   "cell_type": "code",
   "execution_count": null,
   "metadata": {
    "scrolled": true
   },
   "outputs": [],
   "source": [
    "import os\n",
    "import numpy as np\n",
    "from darkflow.net.build import TFNet\n",
    "%matplotlib inline\n",
    "import matplotlib.pyplot as plt\n",
    "import cv2\n",
    "\n",
    "options = {\"model\": \"cfg/yolo.cfg\", \n",
    "           \"load\": \"weights/yolo.weights\", \n",
    "           \"threshold\": 0.1}\n",
    "\n",
    "tfnet = TFNet(options)"
   ]
  },
  {
   "cell_type": "code",
   "execution_count": null,
   "metadata": {},
   "outputs": [],
   "source": [
    "predictThresh = 0.5"
   ]
  },
  {
   "cell_type": "code",
   "execution_count": null,
   "metadata": {},
   "outputs": [],
   "source": [
    "labelsPath = \"cfg/coco.names\";\n",
    "\n",
    "LABELS = None\n",
    "\n",
    "with open(labelsPath, 'rt') as f:\n",
    "\n",
    "    LABELS = f.read().rstrip('\\n').split('\\n')\n",
    "\n",
    "\n",
    "np.random.seed(42)\n",
    "COLORS = np.random.randint(0, 255, size=(len(LABELS), 3),dtype=\"uint8\")\n",
    "\n",
    "\n",
    "dict_obj = {}\n",
    "for label, color in zip(LABELS, COLORS):\n",
    "    dict_obj[label] = color\n",
    "\n",
    "print(dict_obj) "
   ]
  },
  {
   "cell_type": "code",
   "execution_count": null,
   "metadata": {},
   "outputs": [],
   "source": []
  },
  {
   "cell_type": "code",
   "execution_count": null,
   "metadata": {},
   "outputs": [],
   "source": [
    "import pprint as pp\n",
    "\n",
    "original_img = cv2.imread(\"./sample_img/sample_multiple_objects.jpg\")\n",
    "\n",
    "original_img = cv2.cvtColor(original_img, cv2.COLOR_BGR2RGB)\n",
    "\n",
    "plt.imshow(original_img)\n",
    "results = tfnet.return_predict(original_img)\n",
    "\n"
   ]
  },
  {
   "cell_type": "code",
   "execution_count": null,
   "metadata": {},
   "outputs": [],
   "source": [
    "pp.pprint(results)"
   ]
  },
  {
   "cell_type": "code",
   "execution_count": null,
   "metadata": {},
   "outputs": [],
   "source": [
    "def boxing(original_img, predictions):\n",
    "    newImage = np.copy(original_img)\n",
    "    for box in predictions:\n",
    "        # print(box)\n",
    "        x1,y1,x2,y2 = (box['topleft']['x'],box['topleft']['y'],box['bottomright']['x'],box['bottomright']['y'])\n",
    "        conf = box['confidence']\n",
    "        # print(conf)\n",
    "        label = box['label']\n",
    "       \n",
    "        if conf < predictThresh:\n",
    "            continue\n",
    "        color = [int(c) for c in dict_obj[label]]\n",
    "        print(\"label {}, color {}\".format(label,color))\n",
    "        \n",
    "        cv2.rectangle(newImage,(x1,y1),(x2,y2),color,6)\n",
    "        labelSize=cv2.getTextSize(label,cv2.FONT_HERSHEY_COMPLEX,0.5,2)\n",
    "        \n",
    "        _x1 = x1\n",
    "        _y1 = y1\n",
    "        _x2 = _x1+labelSize[0][0]\n",
    "        _y2 = y1-int(labelSize[0][1])\n",
    "        \n",
    "        cv2.rectangle(newImage,(_x1,_y1),(_x2,_y2),color,cv2.FILLED)\n",
    "        cv2.putText(newImage,label,(x1,y1),cv2.FONT_HERSHEY_COMPLEX,0.5,(0,0,0),1)\n",
    "    return newImage"
   ]
  },
  {
   "cell_type": "code",
   "execution_count": null,
   "metadata": {},
   "outputs": [],
   "source": [
    "new_image = boxing(original_img,results)\n",
    "plt.imshow(new_image)\n",
    "\n",
    "  \n",
    "# Image directory \n",
    "directory = r'/mnt/c/Users/Gagan Aggawal/Desktop/project/ObjectDetection/sample_img'\n",
    "# List files and directories   \n",
    "# in 'C:/Users/Rajnish/Desktop/GeeksforGeeks'   \n",
    "\n",
    "\n",
    "# Change the current directory  \n",
    "# to specified directory  \n",
    "os.chdir(directory) \n",
    "  \n",
    "# List files and directories   \n",
    "# in 'C:\\Users\\Gagan Aggawal\\Desktop\\project\\ObjectDetection\\sample_img'   \n",
    "print(\"Before saving image:\")   \n",
    "print(os.listdir(directory))   \n",
    "  \n",
    "# Filename \n",
    "filename = 'savedImage.jpg'\n",
    "  \n",
    "# Using cv2.imwrite() method \n",
    "# Saving the image \n",
    "\n",
    "cv_image = cv2.cvtColor(new_image, cv2.COLOR_RGB2BGR)\n",
    "cv2.imwrite(filename, cv_image) \n",
    "# List files and directories   \n",
    "# in 'C:/Users / Rajnish / Desktop / GeeksforGeeks'   \n",
    "print(\"After saving image:\")   \n",
    "print(os.listdir(directory))"
   ]
  },
  {
   "cell_type": "code",
   "execution_count": null,
   "metadata": {},
   "outputs": [],
   "source": [
    "def get_output(frame):\n",
    "    frame = np.asarray(frame)\n",
    "    results = tfnet.return_predict(frame)\n",
    "    new_frame = boxing(frame, results)\n",
    "    return new_frame"
   ]
  },
  {
   "cell_type": "code",
   "execution_count": null,
   "metadata": {},
   "outputs": [],
   "source": [
    "s"
   ]
  },
  {
   "cell_type": "code",
   "execution_count": null,
   "metadata": {},
   "outputs": [],
   "source": []
  },
  {
   "cell_type": "code",
   "execution_count": null,
   "metadata": {},
   "outputs": [],
   "source": []
  },
  {
   "cell_type": "code",
   "execution_count": null,
   "metadata": {},
   "outputs": [],
   "source": []
  }
 ],
 "metadata": {
  "kernelspec": {
   "display_name": "Python 3",
   "language": "python",
   "name": "python3"
  },
  "language_info": {
   "codemirror_mode": {
    "name": "ipython",
    "version": 3
   },
   "file_extension": ".py",
   "mimetype": "text/x-python",
   "name": "python",
   "nbconvert_exporter": "python",
   "pygments_lexer": "ipython3",
   "version": "3.6.9"
  },
  "pycharm": {
   "stem_cell": {
    "cell_type": "raw",
    "metadata": {
     "collapsed": false
    },
    "source": []
   }
  }
 },
 "nbformat": 4,
 "nbformat_minor": 2
}
