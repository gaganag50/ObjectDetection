{
 "cells": [
  {
   "cell_type": "code",
   "execution_count": 1,
   "metadata": {
    "scrolled": true
   },
   "outputs": [
    {
     "name": "stderr",
     "output_type": "stream",
     "text": [
      "/home/gagan/.virtualenvs/ml/lib/python3.6/site-packages/tensorflow/python/framework/dtypes.py:469: FutureWarning: Passing (type, 1) or '1type' as a synonym of type is deprecated; in a future version of numpy, it will be understood as (type, (1,)) / '(1,)type'.\n",
      "  _np_qint8 = np.dtype([(\"qint8\", np.int8, 1)])\n",
      "/home/gagan/.virtualenvs/ml/lib/python3.6/site-packages/tensorflow/python/framework/dtypes.py:470: FutureWarning: Passing (type, 1) or '1type' as a synonym of type is deprecated; in a future version of numpy, it will be understood as (type, (1,)) / '(1,)type'.\n",
      "  _np_quint8 = np.dtype([(\"quint8\", np.uint8, 1)])\n",
      "/home/gagan/.virtualenvs/ml/lib/python3.6/site-packages/tensorflow/python/framework/dtypes.py:471: FutureWarning: Passing (type, 1) or '1type' as a synonym of type is deprecated; in a future version of numpy, it will be understood as (type, (1,)) / '(1,)type'.\n",
      "  _np_qint16 = np.dtype([(\"qint16\", np.int16, 1)])\n",
      "/home/gagan/.virtualenvs/ml/lib/python3.6/site-packages/tensorflow/python/framework/dtypes.py:472: FutureWarning: Passing (type, 1) or '1type' as a synonym of type is deprecated; in a future version of numpy, it will be understood as (type, (1,)) / '(1,)type'.\n",
      "  _np_quint16 = np.dtype([(\"quint16\", np.uint16, 1)])\n",
      "/home/gagan/.virtualenvs/ml/lib/python3.6/site-packages/tensorflow/python/framework/dtypes.py:473: FutureWarning: Passing (type, 1) or '1type' as a synonym of type is deprecated; in a future version of numpy, it will be understood as (type, (1,)) / '(1,)type'.\n",
      "  _np_qint32 = np.dtype([(\"qint32\", np.int32, 1)])\n",
      "/home/gagan/.virtualenvs/ml/lib/python3.6/site-packages/tensorflow/python/framework/dtypes.py:476: FutureWarning: Passing (type, 1) or '1type' as a synonym of type is deprecated; in a future version of numpy, it will be understood as (type, (1,)) / '(1,)type'.\n",
      "  np_resource = np.dtype([(\"resource\", np.ubyte, 1)])\n",
      "/usr/lib/python3.6/importlib/_bootstrap.py:219: RuntimeWarning: compiletime version 3.5 of module 'tensorflow.python.framework.fast_tensor_util' does not match runtime version 3.6\n",
      "  return f(*args, **kwds)\n"
     ]
    },
    {
     "name": "stdout",
     "output_type": "stream",
     "text": [
      "Parsing ./cfg/yolo.cfg\n",
      "Parsing cfg/yolo.cfg\n",
      "Loading weights/yolo.weights ...\n",
      "Successfully identified 203934260 bytes\n",
      "Finished in 0.06553125381469727s\n",
      "Model has a coco model name, loading coco labels.\n",
      "\n",
      "Building net ...\n",
      "Source | Train? | Layer description                | Output size\n",
      "-------+--------+----------------------------------+---------------\n",
      "       |        | input                            | (?, 608, 608, 3)\n",
      " Load  |  Yep!  | conv 3x3p1_1  +bnorm  leaky      | (?, 608, 608, 32)\n",
      " Load  |  Yep!  | maxp 2x2p0_2                     | (?, 304, 304, 32)\n",
      " Load  |  Yep!  | conv 3x3p1_1  +bnorm  leaky      | (?, 304, 304, 64)\n",
      " Load  |  Yep!  | maxp 2x2p0_2                     | (?, 152, 152, 64)\n",
      " Load  |  Yep!  | conv 3x3p1_1  +bnorm  leaky      | (?, 152, 152, 128)\n",
      " Load  |  Yep!  | conv 1x1p0_1  +bnorm  leaky      | (?, 152, 152, 64)\n",
      " Load  |  Yep!  | conv 3x3p1_1  +bnorm  leaky      | (?, 152, 152, 128)\n",
      " Load  |  Yep!  | maxp 2x2p0_2                     | (?, 76, 76, 128)\n",
      " Load  |  Yep!  | conv 3x3p1_1  +bnorm  leaky      | (?, 76, 76, 256)\n",
      " Load  |  Yep!  | conv 1x1p0_1  +bnorm  leaky      | (?, 76, 76, 128)\n",
      " Load  |  Yep!  | conv 3x3p1_1  +bnorm  leaky      | (?, 76, 76, 256)\n",
      " Load  |  Yep!  | maxp 2x2p0_2                     | (?, 38, 38, 256)\n",
      " Load  |  Yep!  | conv 3x3p1_1  +bnorm  leaky      | (?, 38, 38, 512)\n",
      " Load  |  Yep!  | conv 1x1p0_1  +bnorm  leaky      | (?, 38, 38, 256)\n",
      " Load  |  Yep!  | conv 3x3p1_1  +bnorm  leaky      | (?, 38, 38, 512)\n",
      " Load  |  Yep!  | conv 1x1p0_1  +bnorm  leaky      | (?, 38, 38, 256)\n",
      " Load  |  Yep!  | conv 3x3p1_1  +bnorm  leaky      | (?, 38, 38, 512)\n",
      " Load  |  Yep!  | maxp 2x2p0_2                     | (?, 19, 19, 512)\n",
      " Load  |  Yep!  | conv 3x3p1_1  +bnorm  leaky      | (?, 19, 19, 1024)\n",
      " Load  |  Yep!  | conv 1x1p0_1  +bnorm  leaky      | (?, 19, 19, 512)\n",
      " Load  |  Yep!  | conv 3x3p1_1  +bnorm  leaky      | (?, 19, 19, 1024)\n",
      " Load  |  Yep!  | conv 1x1p0_1  +bnorm  leaky      | (?, 19, 19, 512)\n",
      " Load  |  Yep!  | conv 3x3p1_1  +bnorm  leaky      | (?, 19, 19, 1024)\n",
      " Load  |  Yep!  | conv 3x3p1_1  +bnorm  leaky      | (?, 19, 19, 1024)\n",
      " Load  |  Yep!  | conv 3x3p1_1  +bnorm  leaky      | (?, 19, 19, 1024)\n",
      " Load  |  Yep!  | concat [16]                      | (?, 38, 38, 512)\n",
      " Load  |  Yep!  | conv 1x1p0_1  +bnorm  leaky      | (?, 38, 38, 64)\n",
      " Load  |  Yep!  | local flatten 2x2                | (?, 19, 19, 256)\n",
      " Load  |  Yep!  | concat [27, 24]                  | (?, 19, 19, 1280)\n",
      " Load  |  Yep!  | conv 3x3p1_1  +bnorm  leaky      | (?, 19, 19, 1024)\n",
      " Load  |  Yep!  | conv 1x1p0_1    linear           | (?, 19, 19, 425)\n",
      "-------+--------+----------------------------------+---------------\n",
      "Running entirely on CPU\n",
      "Finished in 8.082562446594238s\n",
      "\n"
     ]
    }
   ],
   "source": [
    "import os\n",
    "from darkflow.net.build import TFNet\n",
    "# C:\\Users\\Gagan Aggawal\\Desktop\\project\\darkflow\\darkflow\\cfg\n",
    "options = {\"model\": \"cfg/yolo.cfg\", \n",
    "           \"load\": \"weights/yolo.weights\", \n",
    "           \"threshold\": 0.1}\n",
    "\n",
    "tfnet = TFNet(options)"
   ]
  },
  {
   "cell_type": "code",
   "execution_count": 2,
   "metadata": {},
   "outputs": [],
   "source": [
    "def boxing(original_img, predictions):\n",
    "    newImage = np.copy(original_img)\n",
    "\n",
    "    for result in predictions:\n",
    "        top_x = result['topleft']['x']\n",
    "        top_y = result['topleft']['y']\n",
    "\n",
    "        btm_x = result['bottomright']['x']\n",
    "        btm_y = result['bottomright']['y']\n",
    "\n",
    "        confidence = result['confidence']\n",
    "        label = result['label'] + \" \" + str(round(confidence, 3))\n",
    "\n",
    "        if confidence > 0.3:\n",
    "            newImage = cv2.rectangle(newImage, (top_x, top_y), (btm_x, btm_y), (255,0,0), 3)\n",
    "            newImage = cv2.putText(newImage, label, (top_x, top_y-5), cv2.FONT_HERSHEY_COMPLEX_SMALL , 0.8, (0, 230, 0), 1, cv2.LINE_AA)\n",
    "            \n",
    "    return newImage\n"
   ]
  },
  {
   "cell_type": "code",
   "execution_count": 3,
   "metadata": {},
   "outputs": [],
   "source": [
    "%matplotlib inline\n",
    "import matplotlib.pyplot as plt\n",
    "import numpy as np\n",
    "\n",
    "import cv2"
   ]
  },
  {
   "cell_type": "code",
   "execution_count": 4,
   "metadata": {},
   "outputs": [
    {
     "name": "stdout",
     "output_type": "stream",
     "text": [
      "[{'bottomright': {'x': 157, 'y': 208},\n",
      "  'confidence': 0.67079693,\n",
      "  'label': 'person',\n",
      "  'topleft': {'x': 61, 'y': 3}},\n",
      " {'bottomright': {'x': 286, 'y': 258},\n",
      "  'confidence': 0.32715744,\n",
      "  'label': 'person',\n",
      "  'topleft': {'x': 200, 'y': 38}},\n",
      " {'bottomright': {'x': 329, 'y': 187},\n",
      "  'confidence': 0.2517692,\n",
      "  'label': 'person',\n",
      "  'topleft': {'x': 317, 'y': 156}},\n",
      " {'bottomright': {'x': 371, 'y': 204},\n",
      "  'confidence': 0.14781988,\n",
      "  'label': 'person',\n",
      "  'topleft': {'x': 354, 'y': 183}},\n",
      " {'bottomright': {'x': 524, 'y': 373},\n",
      "  'confidence': 0.7331757,\n",
      "  'label': 'person',\n",
      "  'topleft': {'x': 443, 'y': 139}},\n",
      " {'bottomright': {'x': 592, 'y': 378},\n",
      "  'confidence': 0.22580777,\n",
      "  'label': 'person',\n",
      "  'topleft': {'x': 561, 'y': 147}},\n",
      " {'bottomright': {'x': 594, 'y': 430},\n",
      "  'confidence': 0.7661935,\n",
      "  'label': 'person',\n",
      "  'topleft': {'x': 501, 'y': 135}},\n",
      " {'bottomright': {'x': 596, 'y': 430},\n",
      "  'confidence': 0.14075229,\n",
      "  'label': 'person',\n",
      "  'topleft': {'x': 567, 'y': 363}},\n",
      " {'bottomright': {'x': 35, 'y': 170},\n",
      "  'confidence': 0.23629946,\n",
      "  'label': 'car',\n",
      "  'topleft': {'x': 12, 'y': 151}},\n",
      " {'bottomright': {'x': 54, 'y': 173},\n",
      "  'confidence': 0.13097343,\n",
      "  'label': 'car',\n",
      "  'topleft': {'x': 29, 'y': 155}},\n",
      " {'bottomright': {'x': 70, 'y': 194},\n",
      "  'confidence': 0.15348141,\n",
      "  'label': 'car',\n",
      "  'topleft': {'x': 25, 'y': 149}},\n",
      " {'bottomright': {'x': 324, 'y': 195},\n",
      "  'confidence': 0.24630997,\n",
      "  'label': 'car',\n",
      "  'topleft': {'x': 276, 'y': 138}},\n",
      " {'bottomright': {'x': 403, 'y': 191},\n",
      "  'confidence': 0.600316,\n",
      "  'label': 'car',\n",
      "  'topleft': {'x': 330, 'y': 160}},\n",
      " {'bottomright': {'x': 467, 'y': 195},\n",
      "  'confidence': 0.6615537,\n",
      "  'label': 'car',\n",
      "  'topleft': {'x': 383, 'y': 153}},\n",
      " {'bottomright': {'x': 487, 'y': 183},\n",
      "  'confidence': 0.42639983,\n",
      "  'label': 'car',\n",
      "  'topleft': {'x': 436, 'y': 153}},\n",
      " {'bottomright': {'x': 599, 'y': 191},\n",
      "  'confidence': 0.10904571,\n",
      "  'label': 'car',\n",
      "  'topleft': {'x': 588, 'y': 157}},\n",
      " {'bottomright': {'x': 395, 'y': 207},\n",
      "  'confidence': 0.110918134,\n",
      "  'label': 'car',\n",
      "  'topleft': {'x': 333, 'y': 171}},\n",
      " {'bottomright': {'x': 334, 'y': 179},\n",
      "  'confidence': 0.37701008,\n",
      "  'label': 'truck',\n",
      "  'topleft': {'x': 271, 'y': 124}},\n",
      " {'bottomright': {'x': 347, 'y': 129},\n",
      "  'confidence': 0.21515444,\n",
      "  'label': 'stop sign',\n",
      "  'topleft': {'x': 337, 'y': 115}},\n",
      " {'bottomright': {'x': 420, 'y': 401},\n",
      "  'confidence': 0.84738904,\n",
      "  'label': 'dog',\n",
      "  'topleft': {'x': 260, 'y': 274}},\n",
      " {'bottomright': {'x': 217, 'y': 356},\n",
      "  'confidence': 0.7803308,\n",
      "  'label': 'horse',\n",
      "  'topleft': {'x': 57, 'y': 75}},\n",
      " {'bottomright': {'x': 292, 'y': 331},\n",
      "  'confidence': 0.69721353,\n",
      "  'label': 'horse',\n",
      "  'topleft': {'x': 179, 'y': 99}},\n",
      " {'bottomright': {'x': 484, 'y': 250},\n",
      "  'confidence': 0.27756673,\n",
      "  'label': 'backpack',\n",
      "  'topleft': {'x': 436, 'y': 183}},\n",
      " {'bottomright': {'x': 510, 'y': 249},\n",
      "  'confidence': 0.2553571,\n",
      "  'label': 'backpack',\n",
      "  'topleft': {'x': 457, 'y': 178}},\n",
      " {'bottomright': {'x': 571, 'y': 312},\n",
      "  'confidence': 0.275028,\n",
      "  'label': 'backpack',\n",
      "  'topleft': {'x': 477, 'y': 165}},\n",
      " {'bottomright': {'x': 594, 'y': 277},\n",
      "  'confidence': 0.41369152,\n",
      "  'label': 'backpack',\n",
      "  'topleft': {'x': 556, 'y': 193}},\n",
      " {'bottomright': {'x': 319, 'y': 243},\n",
      "  'confidence': 0.43422362,\n",
      "  'label': 'chair',\n",
      "  'topleft': {'x': 278, 'y': 179}}]\n"
     ]
    }
   ],
   "source": [
    "import pprint as pp\n",
    "\n",
    "original_img = cv2.imread(\"./sample_img/sample_multiple_objects.jpg\")\n",
    "original_img = cv2.cvtColor(original_img, cv2.COLOR_BGR2RGB)\n",
    "results = tfnet.return_predict(original_img)\n",
    "\n",
    "pp.pprint(results)"
   ]
  },
  {
   "cell_type": "code",
   "execution_count": 5,
   "metadata": {},
   "outputs": [],
   "source": [
    "def get_output(frame):\n",
    "    frame = np.asarray(frame)\n",
    "    results = tfnet.return_predict(frame)\n",
    "    new_frame = boxing(frame, results)\n",
    "    return new_frame"
   ]
  },
  {
   "cell_type": "code",
   "execution_count": null,
   "metadata": {},
   "outputs": [
    {
     "name": "stderr",
     "output_type": "stream",
     "text": [
      "\r",
      "chunk:   0%|          | 0/34 [00:00<?, ?it/s, now=None]"
     ]
    },
    {
     "name": "stdout",
     "output_type": "stream",
     "text": [
      "Moviepy - Building video myHolidays_edited.webm.\n",
      "MoviePy - Writing audio in myHolidays_editedTEMP_MPY_wvf_snd.ogg\n"
     ]
    },
    {
     "name": "stderr",
     "output_type": "stream",
     "text": [
      "t:   0%|          | 0/38 [00:00<?, ?it/s, now=None]    "
     ]
    },
    {
     "name": "stdout",
     "output_type": "stream",
     "text": [
      "MoviePy - Done.\n",
      "Moviepy - Writing video myHolidays_edited.webm\n",
      "\n"
     ]
    },
    {
     "name": "stderr",
     "output_type": "stream",
     "text": [
      "t:  84%|████████▍ | 32/38 [01:23<00:16,  2.69s/it, now=None]"
     ]
    }
   ],
   "source": [
    "\n",
    "from moviepy.editor import *\n",
    "my_clip = VideoFileClip(\"./sample_video/test_video.mp4\")\n",
    "\n",
    "modifiedClip = my_clip.fl_image( get_output )\n",
    "\n",
    "modifiedClip.write_videofile(\"myHolidays_edited.webm\")\n",
    "\n",
    "\n"
   ]
  },
  {
   "cell_type": "code",
   "execution_count": null,
   "metadata": {},
   "outputs": [],
   "source": []
  },
  {
   "cell_type": "code",
   "execution_count": null,
   "metadata": {},
   "outputs": [],
   "source": []
  },
  {
   "cell_type": "code",
   "execution_count": null,
   "metadata": {},
   "outputs": [],
   "source": []
  }
 ],
 "metadata": {
  "kernelspec": {
   "display_name": "Python 3",
   "language": "python",
   "name": "python3"
  },
  "language_info": {
   "codemirror_mode": {
    "name": "ipython",
    "version": 3
   },
   "file_extension": ".py",
   "mimetype": "text/x-python",
   "name": "python",
   "nbconvert_exporter": "python",
   "pygments_lexer": "ipython3",
   "version": "3.6.9"
  },
  "pycharm": {
   "stem_cell": {
    "cell_type": "raw",
    "metadata": {
     "collapsed": false
    },
    "source": []
   }
  }
 },
 "nbformat": 4,
 "nbformat_minor": 2
}
